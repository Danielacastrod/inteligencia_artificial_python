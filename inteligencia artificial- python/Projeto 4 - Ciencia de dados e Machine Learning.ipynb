{
 "cells": [
  {
   "cell_type": "markdown",
   "id": "5b401a4b",
   "metadata": {},
   "source": [
    "# Projeto Ciência de Dados - Previsão de Preços\n",
    "\n",
    "- Nosso desafio é conseguir prever o preço de barcos que vamos vender baseado nas características do barco, como: ano, tamanho, tipo de barco, se é novo ou usado, qual material usado, etc.\n",
    "\n",
    "- Base de Dados: https://drive.google.com/drive/folders/1o2lpxoi9heyQV1hIlsHXWSfDkBPtze-V?usp=share_link"
   ]
  },
  {
   "cell_type": "markdown",
   "id": "ef64b6d5",
   "metadata": {},
   "source": [
    "### Passo a Passo de um Projeto de Ciência de Dados\n",
    "\n",
    "- Passo 1: Entendimento do Desafio\n",
    "- Passo 2: Entendimento da Área/Empresa\n",
    "- Passo 3: Extração/Obtenção de Dados\n",
    "- Passo 4: Ajuste de Dados (Tratamento/Limpeza)\n",
    "- Passo 5: Análise Exploratória\n",
    "- Passo 6: Modelagem + Algoritmos (Aqui que entra a Inteligência Artificial, se necessário)\n",
    "- Passo 7: Interpretação de Resultados"
   ]
  },
  {
   "cell_type": "markdown",
   "id": "2e085b35",
   "metadata": {},
   "source": [
    "![title](tabelas.png)"
   ]
  },
  {
   "cell_type": "code",
   "execution_count": 69,
   "id": "f4a968fb",
   "metadata": {},
   "outputs": [
    {
     "data": {
      "text/html": [
       "<div>\n",
       "<style scoped>\n",
       "    .dataframe tbody tr th:only-of-type {\n",
       "        vertical-align: middle;\n",
       "    }\n",
       "\n",
       "    .dataframe tbody tr th {\n",
       "        vertical-align: top;\n",
       "    }\n",
       "\n",
       "    .dataframe thead th {\n",
       "        text-align: right;\n",
       "    }\n",
       "</style>\n",
       "<table border=\"1\" class=\"dataframe\">\n",
       "  <thead>\n",
       "    <tr style=\"text-align: right;\">\n",
       "      <th></th>\n",
       "      <th>Preco</th>\n",
       "      <th>TipoBarco</th>\n",
       "      <th>TipoVenda</th>\n",
       "      <th>Ano</th>\n",
       "      <th>Comprimento</th>\n",
       "      <th>Largura</th>\n",
       "      <th>Material</th>\n",
       "    </tr>\n",
       "  </thead>\n",
       "  <tbody>\n",
       "    <tr>\n",
       "      <th>0</th>\n",
       "      <td>3490</td>\n",
       "      <td>1</td>\n",
       "      <td>1</td>\n",
       "      <td>2020</td>\n",
       "      <td>4.00</td>\n",
       "      <td>1.50</td>\n",
       "      <td>1</td>\n",
       "    </tr>\n",
       "    <tr>\n",
       "      <th>1</th>\n",
       "      <td>3399</td>\n",
       "      <td>2</td>\n",
       "      <td>1</td>\n",
       "      <td>2019</td>\n",
       "      <td>3.55</td>\n",
       "      <td>1.46</td>\n",
       "      <td>2</td>\n",
       "    </tr>\n",
       "    <tr>\n",
       "      <th>2</th>\n",
       "      <td>3600</td>\n",
       "      <td>3</td>\n",
       "      <td>2</td>\n",
       "      <td>1999</td>\n",
       "      <td>6.20</td>\n",
       "      <td>2.38</td>\n",
       "      <td>2</td>\n",
       "    </tr>\n",
       "    <tr>\n",
       "      <th>3</th>\n",
       "      <td>3500</td>\n",
       "      <td>2</td>\n",
       "      <td>2</td>\n",
       "      <td>1987</td>\n",
       "      <td>4.35</td>\n",
       "      <td>1.75</td>\n",
       "      <td>3</td>\n",
       "    </tr>\n",
       "    <tr>\n",
       "      <th>4</th>\n",
       "      <td>3500</td>\n",
       "      <td>4</td>\n",
       "      <td>2</td>\n",
       "      <td>2004</td>\n",
       "      <td>4.70</td>\n",
       "      <td>2.00</td>\n",
       "      <td>3</td>\n",
       "    </tr>\n",
       "    <tr>\n",
       "      <th>...</th>\n",
       "      <td>...</td>\n",
       "      <td>...</td>\n",
       "      <td>...</td>\n",
       "      <td>...</td>\n",
       "      <td>...</td>\n",
       "      <td>...</td>\n",
       "      <td>...</td>\n",
       "    </tr>\n",
       "    <tr>\n",
       "      <th>7644</th>\n",
       "      <td>5000</td>\n",
       "      <td>7</td>\n",
       "      <td>2</td>\n",
       "      <td>1974</td>\n",
       "      <td>7.20</td>\n",
       "      <td>2.70</td>\n",
       "      <td>3</td>\n",
       "    </tr>\n",
       "    <tr>\n",
       "      <th>7645</th>\n",
       "      <td>4999</td>\n",
       "      <td>4</td>\n",
       "      <td>2</td>\n",
       "      <td>1980</td>\n",
       "      <td>6.00</td>\n",
       "      <td>2.10</td>\n",
       "      <td>3</td>\n",
       "    </tr>\n",
       "    <tr>\n",
       "      <th>7646</th>\n",
       "      <td>4950</td>\n",
       "      <td>2</td>\n",
       "      <td>2</td>\n",
       "      <td>1984</td>\n",
       "      <td>6.00</td>\n",
       "      <td>1.62</td>\n",
       "      <td>5</td>\n",
       "    </tr>\n",
       "    <tr>\n",
       "      <th>7647</th>\n",
       "      <td>4499</td>\n",
       "      <td>4</td>\n",
       "      <td>1</td>\n",
       "      <td>2020</td>\n",
       "      <td>4.40</td>\n",
       "      <td>1.80</td>\n",
       "      <td>3</td>\n",
       "    </tr>\n",
       "    <tr>\n",
       "      <th>7648</th>\n",
       "      <td>3780</td>\n",
       "      <td>2</td>\n",
       "      <td>1</td>\n",
       "      <td>2019</td>\n",
       "      <td>3.60</td>\n",
       "      <td>1.60</td>\n",
       "      <td>3</td>\n",
       "    </tr>\n",
       "  </tbody>\n",
       "</table>\n",
       "<p>7649 rows × 7 columns</p>\n",
       "</div>"
      ],
      "text/plain": [
       "      Preco  TipoBarco  TipoVenda   Ano  Comprimento  Largura  Material\n",
       "0      3490          1          1  2020         4.00     1.50         1\n",
       "1      3399          2          1  2019         3.55     1.46         2\n",
       "2      3600          3          2  1999         6.20     2.38         2\n",
       "3      3500          2          2  1987         4.35     1.75         3\n",
       "4      3500          4          2  2004         4.70     2.00         3\n",
       "...     ...        ...        ...   ...          ...      ...       ...\n",
       "7644   5000          7          2  1974         7.20     2.70         3\n",
       "7645   4999          4          2  1980         6.00     2.10         3\n",
       "7646   4950          2          2  1984         6.00     1.62         5\n",
       "7647   4499          4          1  2020         4.40     1.80         3\n",
       "7648   3780          2          1  2019         3.60     1.60         3\n",
       "\n",
       "[7649 rows x 7 columns]"
      ]
     },
     "metadata": {},
     "output_type": "display_data"
    }
   ],
   "source": [
    "# passo a paaso de um projeto de ciencia de dados\n",
    "# entendimento do desafio\n",
    "# entendimento da área/empresa\n",
    "       # prever o preço de um barco baseado nas caracteristicas dele( ano, modelo, material, usado/novo, etc)\n",
    "    \n",
    "# extraçao/ obtençao de dados\n",
    "import pandas as pd\n",
    "\n",
    "tabela = pd.read_csv(\"barcos_ref.csv\")\n",
    "display(tabela)"
   ]
  },
  {
   "cell_type": "code",
   "execution_count": 70,
   "id": "d6707684",
   "metadata": {},
   "outputs": [
    {
     "data": {
      "text/html": [
       "<div>\n",
       "<style scoped>\n",
       "    .dataframe tbody tr th:only-of-type {\n",
       "        vertical-align: middle;\n",
       "    }\n",
       "\n",
       "    .dataframe tbody tr th {\n",
       "        vertical-align: top;\n",
       "    }\n",
       "\n",
       "    .dataframe thead th {\n",
       "        text-align: right;\n",
       "    }\n",
       "</style>\n",
       "<table border=\"1\" class=\"dataframe\">\n",
       "  <thead>\n",
       "    <tr style=\"text-align: right;\">\n",
       "      <th></th>\n",
       "      <th>Preco</th>\n",
       "    </tr>\n",
       "  </thead>\n",
       "  <tbody>\n",
       "    <tr>\n",
       "      <th>Preco</th>\n",
       "      <td>1.000000</td>\n",
       "    </tr>\n",
       "    <tr>\n",
       "      <th>TipoBarco</th>\n",
       "      <td>0.293137</td>\n",
       "    </tr>\n",
       "    <tr>\n",
       "      <th>TipoVenda</th>\n",
       "      <td>0.041266</td>\n",
       "    </tr>\n",
       "    <tr>\n",
       "      <th>Ano</th>\n",
       "      <td>0.113385</td>\n",
       "    </tr>\n",
       "    <tr>\n",
       "      <th>Comprimento</th>\n",
       "      <td>0.578353</td>\n",
       "    </tr>\n",
       "    <tr>\n",
       "      <th>Largura</th>\n",
       "      <td>0.557621</td>\n",
       "    </tr>\n",
       "    <tr>\n",
       "      <th>Material</th>\n",
       "      <td>-0.036476</td>\n",
       "    </tr>\n",
       "  </tbody>\n",
       "</table>\n",
       "</div>"
      ],
      "text/plain": [
       "                Preco\n",
       "Preco        1.000000\n",
       "TipoBarco    0.293137\n",
       "TipoVenda    0.041266\n",
       "Ano          0.113385\n",
       "Comprimento  0.578353\n",
       "Largura      0.557621\n",
       "Material    -0.036476"
      ]
     },
     "metadata": {},
     "output_type": "display_data"
    },
    {
     "data": {
      "image/png": "[encoded data removed]",
      "text/plain": [
       "<Figure size 640x480 with 2 Axes>"
      ]
     },
     "metadata": {},
     "output_type": "display_data"
    }
   ],
   "source": [
    "# ajuste de dados (tratamento e limpeza)\n",
    "   # correlaçao entre as informçoes da base de dados \n",
    "correlacao = (tabela.corr()[[\"Preco\"]])\n",
    "display(correlacao)\n",
    "\n",
    "# análise exploratória\n",
    "# duas bibliotecas de gráfico\n",
    "import seaborn as sns\n",
    "import matplotlib.pyplot as plt\n",
    "\n",
    "\n",
    "\n",
    "# cria o gráfico\n",
    "sns.heatmap(correlacao, cmap=\"Blues\", annot=True)\n",
    "\n",
    "# exibe o gráfico\n",
    "plt.show()"
   ]
  },
  {
   "cell_type": "code",
   "execution_count": 71,
   "id": "03b989bb",
   "metadata": {},
   "outputs": [],
   "source": [
    "# modelagem + algoritmo (aqui que entra a inteligencia artificial, se necessario)\n",
    "      # dividir a base em x e y\n",
    "y = tabela['Preco']\n",
    "# axis = 0 -> linhas, axis = 1 -> colunas\n",
    "x = tabela.drop('Preco', axis=1)\n",
    "\n",
    "# train test split\n",
    "from sklearn.model_selection import train_test_split\n",
    "\n",
    "x_treino, x_teste, y_treino, y_teste = train_test_split(x, y, test_size=0.3)"
   ]
  },
  {
   "cell_type": "code",
   "execution_count": 72,
   "id": "4bd46c1a",
   "metadata": {},
   "outputs": [
    {
     "data": {
      "text/plain": [
       "RandomForestRegressor()"
      ]
     },
     "execution_count": 72,
     "metadata": {},
     "output_type": "execute_result"
    }
   ],
   "source": [
    "\n",
    "# importar a inteligencia artificial\n",
    "# RegresssaoLinear e ArvoreDeDecisao\n",
    "from sklearn.linear_model import LinearRegression\n",
    "from sklearn.ensemble import RandomForestRegressor\n",
    "\n",
    "# criar a inteligencia artificial\n",
    "modelo_regressaoLinear = LinearRegression()\n",
    "modelo_arvoreDecisao = RandomForestRegressor()\n",
    "\n",
    "# treinar a inteligencia artificial\n",
    "modelo_regressaoLinear.fit(x_treino, y_treino)\n",
    "modelo_arvoreDecisao.fit(x_treino, y_treino)"
   ]
  },
  {
   "cell_type": "code",
   "execution_count": 73,
   "id": "844f5bb7",
   "metadata": {},
   "outputs": [
    {
     "name": "stdout",
     "output_type": "stream",
     "text": [
      "0.3771541188192036\n",
      "0.7991962016954575\n"
     ]
    }
   ],
   "source": [
    "# interpretaçao de resultados\n",
    "\n",
    "# escolher o melhor modelo\n",
    "from sklearn.metrics import r2_score\n",
    "previsao_regressaoLinear = modelo_regressaoLinear.predict(x_teste)\n",
    "previsao_arvoreDecisao = modelo_arvoreDecisao.predict(x_teste)\n",
    "\n",
    "print(r2_score(y_teste, previsao_regressaoLinear ))\n",
    "print(r2_score(y_teste, previsao_arvoreDecisao ))\n",
    "# visualizazr as previsoes\n",
    "\n",
    "# fazer novas previsoes (usando a inteligencia artificial na prática)"
   ]
  },
  {
   "cell_type": "code",
   "execution_count": 74,
   "id": "b2153fdd",
   "metadata": {},
   "outputs": [
    {
     "data": {
      "text/plain": [
       "<function matplotlib.pyplot.show(close=None, block=None)>"
      ]
     },
     "execution_count": 74,
     "metadata": {},
     "output_type": "execute_result"
    },
    {
     "data": {
      "image/png": "[encoded data removed]",
      "text/plain": [
       "<Figure size 640x480 with 1 Axes>"
      ]
     },
     "metadata": {},
     "output_type": "display_data"
    }
   ],
   "source": [
    "tabela_auxiliar = pd.DataFrame()\n",
    "tabela_auxiliar [\"y_teste\"] = y_teste\n",
    "tabela_auxiliar [\"ArvoreDecisao\"] = previsao_arvoreDecisao\n",
    "tabela_auxiliar [\"RegressaiLinear\"] = previsao_regressaoLinear\n",
    "\n",
    "sns.lineplot(data= tabela_auxiliar)\n",
    "plt.show"
   ]
  },
  {
   "cell_type": "code",
   "execution_count": 75,
   "id": "ba3f2861",
   "metadata": {},
   "outputs": [
    {
     "data": {
      "text/html": [
       "<div>\n",
       "<style scoped>\n",
       "    .dataframe tbody tr th:only-of-type {\n",
       "        vertical-align: middle;\n",
       "    }\n",
       "\n",
       "    .dataframe tbody tr th {\n",
       "        vertical-align: top;\n",
       "    }\n",
       "\n",
       "    .dataframe thead th {\n",
       "        text-align: right;\n",
       "    }\n",
       "</style>\n",
       "<table border=\"1\" class=\"dataframe\">\n",
       "  <thead>\n",
       "    <tr style=\"text-align: right;\">\n",
       "      <th></th>\n",
       "      <th>TipoBarco</th>\n",
       "      <th>TipoVenda</th>\n",
       "      <th>Ano</th>\n",
       "      <th>Comprimento</th>\n",
       "      <th>Largura</th>\n",
       "      <th>Material</th>\n",
       "    </tr>\n",
       "  </thead>\n",
       "  <tbody>\n",
       "    <tr>\n",
       "      <th>0</th>\n",
       "      <td>2</td>\n",
       "      <td>3</td>\n",
       "      <td>2023</td>\n",
       "      <td>3.0</td>\n",
       "      <td>1.5</td>\n",
       "      <td>1</td>\n",
       "    </tr>\n",
       "    <tr>\n",
       "      <th>1</th>\n",
       "      <td>2</td>\n",
       "      <td>1</td>\n",
       "      <td>2023</td>\n",
       "      <td>3.8</td>\n",
       "      <td>1.9</td>\n",
       "      <td>2</td>\n",
       "    </tr>\n",
       "    <tr>\n",
       "      <th>2</th>\n",
       "      <td>3</td>\n",
       "      <td>2</td>\n",
       "      <td>1999</td>\n",
       "      <td>6.2</td>\n",
       "      <td>3.0</td>\n",
       "      <td>2</td>\n",
       "    </tr>\n",
       "  </tbody>\n",
       "</table>\n",
       "</div>"
      ],
      "text/plain": [
       "   TipoBarco  TipoVenda   Ano  Comprimento  Largura  Material\n",
       "0          2          3  2023          3.0      1.5         1\n",
       "1          2          1  2023          3.8      1.9         2\n",
       "2          3          2  1999          6.2      3.0         2"
      ]
     },
     "metadata": {},
     "output_type": "display_data"
    },
    {
     "name": "stdout",
     "output_type": "stream",
     "text": [
      "[ 7427.30416667 11174.47666667 17564.5       ]\n"
     ]
    }
   ],
   "source": [
    "tabela_nova=pd.read_csv('novos_barcos.csv')\n",
    "display(tabela_nova)\n",
    "\n",
    "previsao = modelo_arvoreDecisao.predict(tabela_nova)\n",
    "print(previsao)"
   ]
  },
  {
   "cell_type": "code",
   "execution_count": null,
   "id": "402401cf",
   "metadata": {},
   "outputs": [],
   "source": []
  },
  {
   "cell_type": "code",
   "execution_count": null,
   "id": "40fdae7a",
   "metadata": {},
   "outputs": [],
   "source": []
  },
  {
   "cell_type": "code",
   "execution_count": null,
   "id": "3137fe55",
   "metadata": {},
   "outputs": [],
   "source": []
  }
 ],
 "metadata": {
  "kernelspec": {
   "display_name": "Python 3 (ipykernel)",
   "language": "python",
   "name": "python3"
  },
  "language_info": {
   "codemirror_mode": {
    "name": "ipython",
    "version": 3
   },
   "file_extension": ".py",
   "mimetype": "text/x-python",
   "name": "python",
   "nbconvert_exporter": "python",
   "pygments_lexer": "ipython3",
   "version": "3.9.13"
  }
 },
 "nbformat": 4,
 "nbformat_minor": 5
}
